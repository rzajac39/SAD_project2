{
 "cells": [
  {
   "cell_type": "code",
   "execution_count": 1,
   "metadata": {},
   "outputs": [],
   "source": [
    "import pandas as pd \n",
    "import numpy as np\n",
    "import matplotlib.pyplot as plt\n",
    "import seaborn as sns\n",
    "from typing import Union\n",
    "from sklearn.metrics import *\n",
    "from sklearn.pipeline import make_pipeline\n",
    "from sklearn.preprocessing import StandardScaler, LabelEncoder, OrdinalEncoder, MinMaxScaler\n",
    "from sklearn.compose import make_column_selector as selector\n",
    "from sklearn.compose import ColumnTransformer\n",
    "from sklearn.linear_model import LogisticRegression\n",
    "from sklearn.pipeline import make_pipeline\n",
    "from sklearn.model_selection import train_test_split\n",
    "import statsmodels.api as sm\n",
    "from tools import *"
   ]
  },
  {
   "cell_type": "code",
   "execution_count": 2,
   "metadata": {},
   "outputs": [
    {
     "data": {
      "text/html": [
       "<div>\n",
       "<style scoped>\n",
       "    .dataframe tbody tr th:only-of-type {\n",
       "        vertical-align: middle;\n",
       "    }\n",
       "\n",
       "    .dataframe tbody tr th {\n",
       "        vertical-align: top;\n",
       "    }\n",
       "\n",
       "    .dataframe thead th {\n",
       "        text-align: right;\n",
       "    }\n",
       "</style>\n",
       "<table border=\"1\" class=\"dataframe\">\n",
       "  <thead>\n",
       "    <tr style=\"text-align: right;\">\n",
       "      <th></th>\n",
       "      <th>gender</th>\n",
       "      <th>age</th>\n",
       "      <th>height(cm)</th>\n",
       "      <th>weight(kg)</th>\n",
       "      <th>waist(cm)</th>\n",
       "      <th>eyesight(left)</th>\n",
       "      <th>eyesight(right)</th>\n",
       "      <th>hearing(left)</th>\n",
       "      <th>hearing(right)</th>\n",
       "      <th>systolic</th>\n",
       "      <th>...</th>\n",
       "      <th>LDL</th>\n",
       "      <th>hemoglobin</th>\n",
       "      <th>Urine protein</th>\n",
       "      <th>serum creatinine</th>\n",
       "      <th>AST</th>\n",
       "      <th>ALT</th>\n",
       "      <th>Gtp</th>\n",
       "      <th>dental caries</th>\n",
       "      <th>tartar</th>\n",
       "      <th>smoking</th>\n",
       "    </tr>\n",
       "  </thead>\n",
       "  <tbody>\n",
       "    <tr>\n",
       "      <th>0</th>\n",
       "      <td>F</td>\n",
       "      <td>40</td>\n",
       "      <td>155</td>\n",
       "      <td>60</td>\n",
       "      <td>81.3</td>\n",
       "      <td>1.2</td>\n",
       "      <td>1.0</td>\n",
       "      <td>1.0</td>\n",
       "      <td>1.0</td>\n",
       "      <td>114.0</td>\n",
       "      <td>...</td>\n",
       "      <td>126.0</td>\n",
       "      <td>12.9</td>\n",
       "      <td>1.0</td>\n",
       "      <td>0.7</td>\n",
       "      <td>18.0</td>\n",
       "      <td>19.0</td>\n",
       "      <td>27.0</td>\n",
       "      <td>0</td>\n",
       "      <td>Y</td>\n",
       "      <td>0</td>\n",
       "    </tr>\n",
       "    <tr>\n",
       "      <th>1</th>\n",
       "      <td>F</td>\n",
       "      <td>40</td>\n",
       "      <td>160</td>\n",
       "      <td>60</td>\n",
       "      <td>81.0</td>\n",
       "      <td>0.8</td>\n",
       "      <td>0.6</td>\n",
       "      <td>1.0</td>\n",
       "      <td>1.0</td>\n",
       "      <td>119.0</td>\n",
       "      <td>...</td>\n",
       "      <td>127.0</td>\n",
       "      <td>12.7</td>\n",
       "      <td>1.0</td>\n",
       "      <td>0.6</td>\n",
       "      <td>22.0</td>\n",
       "      <td>19.0</td>\n",
       "      <td>18.0</td>\n",
       "      <td>0</td>\n",
       "      <td>Y</td>\n",
       "      <td>0</td>\n",
       "    </tr>\n",
       "    <tr>\n",
       "      <th>2</th>\n",
       "      <td>M</td>\n",
       "      <td>55</td>\n",
       "      <td>170</td>\n",
       "      <td>60</td>\n",
       "      <td>80.0</td>\n",
       "      <td>0.8</td>\n",
       "      <td>0.8</td>\n",
       "      <td>1.0</td>\n",
       "      <td>1.0</td>\n",
       "      <td>138.0</td>\n",
       "      <td>...</td>\n",
       "      <td>151.0</td>\n",
       "      <td>15.8</td>\n",
       "      <td>1.0</td>\n",
       "      <td>1.0</td>\n",
       "      <td>21.0</td>\n",
       "      <td>16.0</td>\n",
       "      <td>22.0</td>\n",
       "      <td>0</td>\n",
       "      <td>N</td>\n",
       "      <td>1</td>\n",
       "    </tr>\n",
       "    <tr>\n",
       "      <th>3</th>\n",
       "      <td>M</td>\n",
       "      <td>40</td>\n",
       "      <td>165</td>\n",
       "      <td>70</td>\n",
       "      <td>88.0</td>\n",
       "      <td>1.5</td>\n",
       "      <td>1.5</td>\n",
       "      <td>1.0</td>\n",
       "      <td>1.0</td>\n",
       "      <td>100.0</td>\n",
       "      <td>...</td>\n",
       "      <td>226.0</td>\n",
       "      <td>14.7</td>\n",
       "      <td>1.0</td>\n",
       "      <td>1.0</td>\n",
       "      <td>19.0</td>\n",
       "      <td>26.0</td>\n",
       "      <td>18.0</td>\n",
       "      <td>0</td>\n",
       "      <td>Y</td>\n",
       "      <td>0</td>\n",
       "    </tr>\n",
       "    <tr>\n",
       "      <th>4</th>\n",
       "      <td>F</td>\n",
       "      <td>40</td>\n",
       "      <td>155</td>\n",
       "      <td>60</td>\n",
       "      <td>86.0</td>\n",
       "      <td>1.0</td>\n",
       "      <td>1.0</td>\n",
       "      <td>1.0</td>\n",
       "      <td>1.0</td>\n",
       "      <td>120.0</td>\n",
       "      <td>...</td>\n",
       "      <td>107.0</td>\n",
       "      <td>12.5</td>\n",
       "      <td>1.0</td>\n",
       "      <td>0.6</td>\n",
       "      <td>16.0</td>\n",
       "      <td>14.0</td>\n",
       "      <td>22.0</td>\n",
       "      <td>0</td>\n",
       "      <td>N</td>\n",
       "      <td>0</td>\n",
       "    </tr>\n",
       "  </tbody>\n",
       "</table>\n",
       "<p>5 rows × 25 columns</p>\n",
       "</div>"
      ],
      "text/plain": [
       "  gender  age  height(cm)  weight(kg)  waist(cm)  eyesight(left)  \\\n",
       "0      F   40         155          60       81.3             1.2   \n",
       "1      F   40         160          60       81.0             0.8   \n",
       "2      M   55         170          60       80.0             0.8   \n",
       "3      M   40         165          70       88.0             1.5   \n",
       "4      F   40         155          60       86.0             1.0   \n",
       "\n",
       "   eyesight(right)  hearing(left)  hearing(right)  systolic  ...    LDL  \\\n",
       "0              1.0            1.0             1.0     114.0  ...  126.0   \n",
       "1              0.6            1.0             1.0     119.0  ...  127.0   \n",
       "2              0.8            1.0             1.0     138.0  ...  151.0   \n",
       "3              1.5            1.0             1.0     100.0  ...  226.0   \n",
       "4              1.0            1.0             1.0     120.0  ...  107.0   \n",
       "\n",
       "   hemoglobin  Urine protein  serum creatinine   AST   ALT   Gtp  \\\n",
       "0        12.9            1.0               0.7  18.0  19.0  27.0   \n",
       "1        12.7            1.0               0.6  22.0  19.0  18.0   \n",
       "2        15.8            1.0               1.0  21.0  16.0  22.0   \n",
       "3        14.7            1.0               1.0  19.0  26.0  18.0   \n",
       "4        12.5            1.0               0.6  16.0  14.0  22.0   \n",
       "\n",
       "   dental caries  tartar  smoking  \n",
       "0              0       Y        0  \n",
       "1              0       Y        0  \n",
       "2              0       N        1  \n",
       "3              0       Y        0  \n",
       "4              0       N        0  \n",
       "\n",
       "[5 rows x 25 columns]"
      ]
     },
     "execution_count": 2,
     "metadata": {},
     "output_type": "execute_result"
    }
   ],
   "source": [
    "data = pd.read_csv(\"../data/smoking.csv\")\n",
    "data.drop([\"ID\", \"oral\"], axis=1, inplace=True)\n",
    "data.head()"
   ]
  },
  {
   "cell_type": "code",
   "execution_count": 3,
   "metadata": {},
   "outputs": [],
   "source": [
    "#Compressing hearing and eyesight columns for both ears/eyes into one.\n",
    "data[\"eyesight\"] = (data[\"eyesight(left)\"] + data[\"eyesight(right)\"])/2.0\n",
    "data[\"hearing\"] = (data[\"hearing(left)\"] + data[\"hearing(right)\"])/2.0\n",
    "data.drop(['eyesight(left)', 'eyesight(right)', 'hearing(left)', 'hearing(right)'], axis = 1, inplace = True)"
   ]
  },
  {
   "cell_type": "code",
   "execution_count": 4,
   "metadata": {},
   "outputs": [
    {
     "data": {
      "text/plain": [
       "[array(['F', 'M'], dtype=object), array(['N', 'Y'], dtype=object)]"
      ]
     },
     "execution_count": 4,
     "metadata": {},
     "output_type": "execute_result"
    }
   ],
   "source": [
    "oe = OrdinalEncoder()\n",
    "categorical_cols = data.select_dtypes(include='object').columns.tolist()\n",
    "data[categorical_cols] = oe.fit_transform(data[data.select_dtypes(include='object').columns.tolist()]) \n",
    "oe.categories_"
   ]
  },
  {
   "cell_type": "code",
   "execution_count": 5,
   "metadata": {},
   "outputs": [],
   "source": [
    "y = data[\"smoking\"].copy()\n",
    "X = data.drop(\"smoking\", axis=1).copy()\n",
    "\n",
    "X_train, X_test, y_train, y_test = train_test_split(X, y, test_size=.2, random_state=42)"
   ]
  },
  {
   "cell_type": "markdown",
   "metadata": {},
   "source": [
    "## Model I: Wybieramy wszystkie zmienne"
   ]
  },
  {
   "cell_type": "code",
   "execution_count": 6,
   "metadata": {},
   "outputs": [
    {
     "data": {
      "text/plain": [
       "gender                 3.104986\n",
       "age                   -0.002526\n",
       "height(cm)            -0.000607\n",
       "weight(kg)             0.003527\n",
       "waist(cm)             -0.015214\n",
       "systolic              -0.016531\n",
       "relaxation             0.009324\n",
       "fasting blood sugar    0.002743\n",
       "Cholesterol           -0.002765\n",
       "triglyceride           0.004723\n",
       "HDL                    0.000603\n",
       "LDL                   -0.000166\n",
       "hemoglobin             0.111009\n",
       "Urine protein         -0.018169\n",
       "serum creatinine      -0.857501\n",
       "AST                   -0.001628\n",
       "ALT                   -0.005420\n",
       "Gtp                    0.008061\n",
       "dental caries          0.330297\n",
       "tartar                 0.326147\n",
       "eyesight              -0.059243\n",
       "hearing               -0.357715\n",
       "Name: Współczynniki, dtype: float64"
      ]
     },
     "execution_count": 6,
     "metadata": {},
     "output_type": "execute_result"
    }
   ],
   "source": [
    "lr = LogisticRegression(max_iter=250, solver=\"liblinear\")\n",
    "lr.fit(X_train, y_train)\n",
    "model_I = generate_raport(lr, X_train, X_test, y_train, y_test, True)\n",
    "model_I[\"Name\"]= \"Model_I\"\n",
    "pd.Series(dict(zip(X_train.columns.tolist(), *lr.coef_.tolist())), name=\"Współczynniki\")"
   ]
  },
  {
   "cell_type": "code",
   "execution_count": 7,
   "metadata": {},
   "outputs": [
    {
     "name": "stdout",
     "output_type": "stream",
     "text": [
      "Optimization terminated successfully.\n",
      "         Current function value: 0.470661\n",
      "         Iterations 7\n",
      "                           Logit Regression Results                           \n",
      "==============================================================================\n",
      "Dep. Variable:                smoking   No. Observations:                44553\n",
      "Model:                          Logit   Df Residuals:                    44530\n",
      "Method:                           MLE   Df Model:                           22\n",
      "Date:                Sun, 20 Nov 2022   Pseudo R-squ.:                  0.2839\n",
      "Time:                        13:46:32   Log-Likelihood:                -20969.\n",
      "converged:                       True   LL-Null:                       -29282.\n",
      "Covariance Type:            nonrobust   LLR p-value:                     0.000\n",
      "=======================================================================================\n",
      "                          coef    std err          z      P>|z|      [0.025      0.975]\n",
      "---------------------------------------------------------------------------------------\n",
      "const                  -6.4133      0.480    -13.348      0.000      -7.355      -5.472\n",
      "gender                  2.9514      0.058     51.176      0.000       2.838       3.064\n",
      "age                    -0.0002      0.001     -0.129      0.897      -0.003       0.002\n",
      "height(cm)              0.0206      0.002      8.302      0.000       0.016       0.025\n",
      "weight(kg)             -0.0093      0.002     -3.876      0.000      -0.014      -0.005\n",
      "waist(cm)              -0.0023      0.003     -0.817      0.414      -0.008       0.003\n",
      "systolic               -0.0148      0.001    -10.491      0.000      -0.018      -0.012\n",
      "relaxation              0.0096      0.002      4.976      0.000       0.006       0.013\n",
      "fasting blood sugar     0.0032      0.001      5.251      0.000       0.002       0.004\n",
      "Cholesterol            -0.0023      0.001     -3.927      0.000      -0.003      -0.001\n",
      "triglyceride            0.0047      0.000     20.947      0.000       0.004       0.005\n",
      "HDL                     0.0020      0.001      1.801      0.072      -0.000       0.004\n",
      "LDL                    -0.0002      0.000     -0.438      0.661      -0.001       0.001\n",
      "hemoglobin              0.1440      0.012     11.804      0.000       0.120       0.168\n",
      "Urine protein           0.0086      0.030      0.287      0.774      -0.050       0.068\n",
      "serum creatinine       -0.9042      0.076    -11.967      0.000      -1.052      -0.756\n",
      "AST                    -0.0012      0.001     -0.968      0.333      -0.004       0.001\n",
      "ALT                    -0.0055      0.001     -6.122      0.000      -0.007      -0.004\n",
      "Gtp                     0.0077      0.000     20.644      0.000       0.007       0.008\n",
      "dental caries           0.3375      0.029     11.677      0.000       0.281       0.394\n",
      "tartar                  0.3334      0.024     13.647      0.000       0.285       0.381\n",
      "eyesight               -0.0305      0.030     -1.012      0.312      -0.089       0.029\n",
      "hearing                -0.2225      0.092     -2.416      0.016      -0.403      -0.042\n",
      "=======================================================================================\n"
     ]
    }
   ],
   "source": [
    "logit_model = sm.Logit(y_train, sm.add_constant(X_train)).fit()\n",
    "print(logit_model.summary())\n",
    "\n",
    "# results = logit_model.predict(X_test)\n",
    "# results = np.where(results<.5,0,1)"
   ]
  },
  {
   "cell_type": "code",
   "execution_count": 8,
   "metadata": {},
   "outputs": [
    {
     "data": {
      "text/plain": [
       "<sklearn.metrics._plot.confusion_matrix.ConfusionMatrixDisplay at 0x1d510d1a370>"
      ]
     },
     "execution_count": 8,
     "metadata": {},
     "output_type": "execute_result"
    },
    {
     "data": {
      "image/png": "[encoded data removed]",
      "text/plain": [
       "<Figure size 640x480 with 2 Axes>"
      ]
     },
     "metadata": {},
     "output_type": "display_data"
    }
   ],
   "source": [
    "plot_confusion_matrix(lr, X_test, y_test)"
   ]
  },
  {
   "cell_type": "code",
   "execution_count": 9,
   "metadata": {},
   "outputs": [
    {
     "data": {
      "text/plain": [
       "<sklearn.metrics._plot.roc_curve.RocCurveDisplay at 0x1d52369b400>"
      ]
     },
     "execution_count": 9,
     "metadata": {},
     "output_type": "execute_result"
    },
    {
     "data": {
      "image/png": "[encoded data removed]",
      "text/plain": [
       "<Figure size 640x480 with 1 Axes>"
      ]
     },
     "metadata": {},
     "output_type": "display_data"
    }
   ],
   "source": [
    "plot_roc_auc(lr, X_test, y_test).plot()"
   ]
  },
  {
   "cell_type": "markdown",
   "metadata": {},
   "source": [
    "## Model II z usuniętymi nieistotnymi zmiennymi"
   ]
  },
  {
   "cell_type": "code",
   "execution_count": 10,
   "metadata": {},
   "outputs": [
    {
     "name": "stdout",
     "output_type": "stream",
     "text": [
      "Optimization terminated successfully.\n",
      "         Current function value: 0.470723\n",
      "         Iterations 7\n",
      "                           Logit Regression Results                           \n",
      "==============================================================================\n",
      "Dep. Variable:                smoking   No. Observations:                44553\n",
      "Model:                          Logit   Df Residuals:                    44534\n",
      "Method:                           MLE   Df Model:                           18\n",
      "Date:                Sun, 20 Nov 2022   Pseudo R-squ.:                  0.2838\n",
      "Time:                        13:46:33   Log-Likelihood:                -20972.\n",
      "converged:                       True   LL-Null:                       -29282.\n",
      "Covariance Type:            nonrobust   LLR p-value:                     0.000\n",
      "=======================================================================================\n",
      "                          coef    std err          z      P>|z|      [0.025      0.975]\n",
      "---------------------------------------------------------------------------------------\n",
      "const                  -6.3026      0.476    -13.237      0.000      -7.236      -5.369\n",
      "gender                  2.9408      0.057     51.198      0.000       2.828       3.053\n",
      "age                    -0.0005      0.001     -0.403      0.687      -0.003       0.002\n",
      "height(cm)              0.0209      0.002      8.428      0.000       0.016       0.026\n",
      "weight(kg)             -0.0096      0.002     -3.984      0.000      -0.014      -0.005\n",
      "waist(cm)              -0.0028      0.003     -0.971      0.332      -0.008       0.003\n",
      "systolic               -0.0147      0.001    -10.399      0.000      -0.017      -0.012\n",
      "relaxation              0.0096      0.002      4.978      0.000       0.006       0.013\n",
      "fasting blood sugar     0.0033      0.001      5.349      0.000       0.002       0.004\n",
      "Cholesterol            -0.0023      0.000     -6.510      0.000      -0.003      -0.002\n",
      "triglyceride            0.0046      0.000     24.237      0.000       0.004       0.005\n",
      "hemoglobin              0.1436      0.012     11.784      0.000       0.120       0.167\n",
      "serum creatinine       -0.9092      0.075    -12.052      0.000      -1.057      -0.761\n",
      "ALT                    -0.0062      0.001     -9.641      0.000      -0.007      -0.005\n",
      "Gtp                     0.0078      0.000     21.298      0.000       0.007       0.009\n",
      "dental caries           0.3369      0.029     11.660      0.000       0.280       0.394\n",
      "tartar                  0.3326      0.024     13.621      0.000       0.285       0.380\n",
      "eyesight               -0.0298      0.030     -0.992      0.321      -0.089       0.029\n",
      "hearing                -0.2233      0.092     -2.425      0.015      -0.404      -0.043\n",
      "=======================================================================================\n"
     ]
    }
   ],
   "source": [
    "logit_model = sm.Logit(y_train, sm.add_constant(X_train.drop([\"HDL\", \"LDL\", \"Urine protein\", \"AST\"], axis=1))).fit()\n",
    "print(logit_model.summary())\n"
   ]
  },
  {
   "cell_type": "markdown",
   "metadata": {},
   "source": [
    "# Model III z zestandaryzowanymi zmiennymi"
   ]
  },
  {
   "cell_type": "code",
   "execution_count": 11,
   "metadata": {},
   "outputs": [
    {
     "name": "stdout",
     "output_type": "stream",
     "text": [
      "Optimization terminated successfully.\n",
      "         Current function value: 0.470723\n",
      "         Iterations 7\n",
      "                           Logit Regression Results                           \n",
      "==============================================================================\n",
      "Dep. Variable:                smoking   No. Observations:                44553\n",
      "Model:                          Logit   Df Residuals:                    44534\n",
      "Method:                           MLE   Df Model:                           18\n",
      "Date:                Sun, 20 Nov 2022   Pseudo R-squ.:                  0.2838\n",
      "Time:                        13:46:33   Log-Likelihood:                -20972.\n",
      "converged:                       True   LL-Null:                       -29282.\n",
      "Covariance Type:            nonrobust   LLR p-value:                     0.000\n",
      "=======================================================================================\n",
      "                          coef    std err          z      P>|z|      [0.025      0.975]\n",
      "---------------------------------------------------------------------------------------\n",
      "const                  -4.1265      0.145    -28.391      0.000      -4.411      -3.842\n",
      "gender                  2.9408      0.057     51.198      0.000       2.828       3.053\n",
      "age                    -0.0317      0.079     -0.403      0.687      -0.186       0.122\n",
      "height(cm)              1.1493      0.136      8.428      0.000       0.882       1.417\n",
      "weight(kg)             -1.0068      0.253     -3.984      0.000      -1.502      -0.511\n",
      "waist(cm)              -0.2163      0.223     -0.971      0.332      -0.653       0.221\n",
      "systolic               -2.4771      0.238    -10.399      0.000      -2.944      -2.010\n",
      "relaxation              1.0197      0.205      4.978      0.000       0.618       1.421\n",
      "fasting blood sugar     1.2398      0.232      5.349      0.000       0.786       1.694\n",
      "Cholesterol            -0.8970      0.138     -6.510      0.000      -1.167      -0.627\n",
      "triglyceride            4.5777      0.189     24.237      0.000       4.207       4.948\n",
      "hemoglobin              2.3262      0.197     11.784      0.000       1.939       2.713\n",
      "serum creatinine      -10.4557      0.868    -12.052      0.000     -12.156      -8.755\n",
      "ALT                   -17.9846      1.865     -9.641      0.000     -21.641     -14.328\n",
      "Gtp                     7.7942      0.366     21.298      0.000       7.077       8.511\n",
      "dental caries           0.3369      0.029     11.660      0.000       0.280       0.394\n",
      "tartar                  0.3326      0.024     13.621      0.000       0.285       0.380\n",
      "eyesight               -0.2925      0.295     -0.992      0.321      -0.870       0.286\n",
      "hearing                -0.2233      0.092     -2.425      0.015      -0.404      -0.043\n",
      "=======================================================================================\n"
     ]
    }
   ],
   "source": [
    "tmp = X_train.drop([\"HDL\", \"LDL\", \"Urine protein\", \"AST\"], axis=1)\n",
    "\n",
    "tmp[categorical_cols]\n",
    "tmp.loc[:, ~tmp.columns.isin(categorical_cols)] = MinMaxScaler().fit_transform(tmp.loc[:, ~tmp.columns.isin(categorical_cols)])\n",
    "\n",
    "logit_model = sm.Logit(y_train, sm.add_constant(tmp)).fit()\n",
    "print(logit_model.summary())"
   ]
  },
  {
   "cell_type": "markdown",
   "metadata": {},
   "source": [
    "# Model IV Wybranie zmiennych z największą(najbardziej odległą od 0) korelacją"
   ]
  },
  {
   "cell_type": "code",
   "execution_count": 12,
   "metadata": {},
   "outputs": [],
   "source": [
    "X_train_lr = X_train[[\"gender\", \"hemoglobin\", \"serum creatinine\", \"Gtp\", \"triglyceride\"]].copy()\n",
    "X_test_lr = X_test[[\"gender\", \"hemoglobin\", \"serum creatinine\", \"Gtp\", \"triglyceride\"]].copy()\n",
    "y_train_lr = y_train.copy()\n",
    "y_test_lr = y_test.copy()"
   ]
  },
  {
   "cell_type": "code",
   "execution_count": 13,
   "metadata": {},
   "outputs": [
    {
     "data": {
      "text/html": [
       "<div>\n",
       "<style scoped>\n",
       "    .dataframe tbody tr th:only-of-type {\n",
       "        vertical-align: middle;\n",
       "    }\n",
       "\n",
       "    .dataframe tbody tr th {\n",
       "        vertical-align: top;\n",
       "    }\n",
       "\n",
       "    .dataframe thead th {\n",
       "        text-align: right;\n",
       "    }\n",
       "</style>\n",
       "<table border=\"1\" class=\"dataframe\">\n",
       "  <thead>\n",
       "    <tr style=\"text-align: right;\">\n",
       "      <th></th>\n",
       "      <th>Precision</th>\n",
       "      <th>Recall</th>\n",
       "      <th>F1 Score</th>\n",
       "      <th>Accuracy</th>\n",
       "      <th>Roc_auc_score</th>\n",
       "      <th>Name</th>\n",
       "    </tr>\n",
       "  </thead>\n",
       "  <tbody>\n",
       "    <tr>\n",
       "      <th>0</th>\n",
       "      <td>0.618804</td>\n",
       "      <td>0.677043</td>\n",
       "      <td>0.646615</td>\n",
       "      <td>0.726816</td>\n",
       "      <td>0.716492</td>\n",
       "      <td>Model_IV</td>\n",
       "    </tr>\n",
       "  </tbody>\n",
       "</table>\n",
       "</div>"
      ],
      "text/plain": [
       "   Precision    Recall  F1 Score  Accuracy  Roc_auc_score      Name\n",
       "0   0.618804  0.677043  0.646615  0.726816       0.716492  Model_IV"
      ]
     },
     "execution_count": 13,
     "metadata": {},
     "output_type": "execute_result"
    }
   ],
   "source": [
    "lr = LogisticRegression()\n",
    "lr.fit(X_train_lr, y_train_lr)\n",
    "model_IV = generate_raport(lr, X_train_lr, X_test_lr, y_train_lr, y_test_lr, True)\n",
    "model_IV[\"Name\"]= \"Model_IV\"\n",
    "model_IV"
   ]
  },
  {
   "cell_type": "code",
   "execution_count": 14,
   "metadata": {},
   "outputs": [
    {
     "data": {
      "text/plain": [
       "<sklearn.metrics._plot.confusion_matrix.ConfusionMatrixDisplay at 0x1d523670d00>"
      ]
     },
     "execution_count": 14,
     "metadata": {},
     "output_type": "execute_result"
    },
    {
     "data": {
      "image/png": "[encoded data removed]",
      "text/plain": [
       "<Figure size 640x480 with 2 Axes>"
      ]
     },
     "metadata": {},
     "output_type": "display_data"
    }
   ],
   "source": [
    "plot_confusion_matrix(lr, X_test_lr, y_test_lr)"
   ]
  },
  {
   "cell_type": "code",
   "execution_count": 15,
   "metadata": {},
   "outputs": [
    {
     "data": {
      "text/plain": [
       "<sklearn.metrics._plot.roc_curve.RocCurveDisplay at 0x1d524ca4520>"
      ]
     },
     "execution_count": 15,
     "metadata": {},
     "output_type": "execute_result"
    },
    {
     "data": {
      "image/png": "[encoded data removed]",
      "text/plain": [
       "<Figure size 640x480 with 1 Axes>"
      ]
     },
     "metadata": {},
     "output_type": "display_data"
    }
   ],
   "source": [
    "plot_roc_auc(lr, X_test_lr, y_test_lr).plot()"
   ]
  },
  {
   "cell_type": "markdown",
   "metadata": {},
   "source": [
    "Porównanie modeli poprzez pseudoR2"
   ]
  },
  {
   "cell_type": "markdown",
   "metadata": {},
   "source": [
    "## Model IV regresja logistzcyna z regularyzacją"
   ]
  },
  {
   "cell_type": "code",
   "execution_count": 16,
   "metadata": {},
   "outputs": [],
   "source": [
    "ss = StandardScaler()\n",
    "# ss = MinMaxScaler()\n",
    "X_train_lr.loc[:,~X_train_lr.columns.isin(categorical_cols)] = ss.fit_transform(X_train_lr.loc[:,~X_train_lr.columns.isin(categorical_cols)])\n",
    "X_test_lr.loc[:,~X_test_lr.columns.isin(categorical_cols)] = ss.fit_transform(X_test_lr.loc[:,~X_test_lr.columns.isin(categorical_cols)])"
   ]
  },
  {
   "cell_type": "code",
   "execution_count": 17,
   "metadata": {},
   "outputs": [
    {
     "data": {
      "text/html": [
       "<div>\n",
       "<style scoped>\n",
       "    .dataframe tbody tr th:only-of-type {\n",
       "        vertical-align: middle;\n",
       "    }\n",
       "\n",
       "    .dataframe tbody tr th {\n",
       "        vertical-align: top;\n",
       "    }\n",
       "\n",
       "    .dataframe thead th {\n",
       "        text-align: right;\n",
       "    }\n",
       "</style>\n",
       "<table border=\"1\" class=\"dataframe\">\n",
       "  <thead>\n",
       "    <tr style=\"text-align: right;\">\n",
       "      <th></th>\n",
       "      <th>Precision</th>\n",
       "      <th>Recall</th>\n",
       "      <th>F1 Score</th>\n",
       "      <th>Accuracy</th>\n",
       "      <th>Roc_auc_score</th>\n",
       "      <th>Name</th>\n",
       "    </tr>\n",
       "  </thead>\n",
       "  <tbody>\n",
       "    <tr>\n",
       "      <th>0</th>\n",
       "      <td>0.61773</td>\n",
       "      <td>0.689689</td>\n",
       "      <td>0.651729</td>\n",
       "      <td>0.727893</td>\n",
       "      <td>0.719969</td>\n",
       "      <td>Model V</td>\n",
       "    </tr>\n",
       "  </tbody>\n",
       "</table>\n",
       "</div>"
      ],
      "text/plain": [
       "   Precision    Recall  F1 Score  Accuracy  Roc_auc_score     Name\n",
       "0    0.61773  0.689689  0.651729  0.727893       0.719969  Model V"
      ]
     },
     "execution_count": 17,
     "metadata": {},
     "output_type": "execute_result"
    }
   ],
   "source": [
    "lr = LogisticRegression(penalty=\"elasticnet\", solver=\"saga\", l1_ratio=.5)\n",
    "lr.fit(X_train_lr, y_train_lr)\n",
    "model_V = generate_raport(lr, X_train_lr, X_test_lr, y_train_lr, y_test_lr, True)\n",
    "model_V[\"Name\"] = \"Model V\"\n",
    "model_V"
   ]
  },
  {
   "cell_type": "code",
   "execution_count": 18,
   "metadata": {},
   "outputs": [
    {
     "data": {
      "text/plain": [
       "<sklearn.metrics._plot.confusion_matrix.ConfusionMatrixDisplay at 0x1d524bfd2e0>"
      ]
     },
     "execution_count": 18,
     "metadata": {},
     "output_type": "execute_result"
    },
    {
     "data": {
      "image/png": "[encoded data removed]",
      "text/plain": [
       "<Figure size 640x480 with 2 Axes>"
      ]
     },
     "metadata": {},
     "output_type": "display_data"
    }
   ],
   "source": [
    "plot_confusion_matrix(lr, X_test_lr, y_test_lr)"
   ]
  },
  {
   "cell_type": "code",
   "execution_count": 19,
   "metadata": {},
   "outputs": [
    {
     "data": {
      "text/plain": [
       "<sklearn.metrics._plot.roc_curve.RocCurveDisplay at 0x1d524cd0550>"
      ]
     },
     "execution_count": 19,
     "metadata": {},
     "output_type": "execute_result"
    },
    {
     "data": {
      "image/png": "[encoded data removed]",
      "text/plain": [
       "<Figure size 640x480 with 1 Axes>"
      ]
     },
     "metadata": {},
     "output_type": "display_data"
    }
   ],
   "source": [
    "plot_roc_auc(lr, X_test_lr, y_test_lr).plot()"
   ]
  },
  {
   "cell_type": "code",
   "execution_count": 20,
   "metadata": {},
   "outputs": [
    {
     "data": {
      "text/html": [
       "<div>\n",
       "<style scoped>\n",
       "    .dataframe tbody tr th:only-of-type {\n",
       "        vertical-align: middle;\n",
       "    }\n",
       "\n",
       "    .dataframe tbody tr th {\n",
       "        vertical-align: top;\n",
       "    }\n",
       "\n",
       "    .dataframe thead th {\n",
       "        text-align: right;\n",
       "    }\n",
       "</style>\n",
       "<table border=\"1\" class=\"dataframe\">\n",
       "  <thead>\n",
       "    <tr style=\"text-align: right;\">\n",
       "      <th></th>\n",
       "      <th>Precision</th>\n",
       "      <th>Recall</th>\n",
       "      <th>F1 Score</th>\n",
       "      <th>Accuracy</th>\n",
       "      <th>Roc_auc_score</th>\n",
       "      <th>Name</th>\n",
       "    </tr>\n",
       "  </thead>\n",
       "  <tbody>\n",
       "    <tr>\n",
       "      <th>0</th>\n",
       "      <td>0.641497</td>\n",
       "      <td>0.687986</td>\n",
       "      <td>0.663929</td>\n",
       "      <td>0.742885</td>\n",
       "      <td>0.731499</td>\n",
       "      <td>Model_I</td>\n",
       "    </tr>\n",
       "    <tr>\n",
       "      <th>0</th>\n",
       "      <td>0.618804</td>\n",
       "      <td>0.677043</td>\n",
       "      <td>0.646615</td>\n",
       "      <td>0.726816</td>\n",
       "      <td>0.716492</td>\n",
       "      <td>Model_IV</td>\n",
       "    </tr>\n",
       "    <tr>\n",
       "      <th>0</th>\n",
       "      <td>0.617730</td>\n",
       "      <td>0.689689</td>\n",
       "      <td>0.651729</td>\n",
       "      <td>0.727893</td>\n",
       "      <td>0.719969</td>\n",
       "      <td>Model V</td>\n",
       "    </tr>\n",
       "  </tbody>\n",
       "</table>\n",
       "</div>"
      ],
      "text/plain": [
       "   Precision    Recall  F1 Score  Accuracy  Roc_auc_score      Name\n",
       "0   0.641497  0.687986  0.663929  0.742885       0.731499   Model_I\n",
       "0   0.618804  0.677043  0.646615  0.726816       0.716492  Model_IV\n",
       "0   0.617730  0.689689  0.651729  0.727893       0.719969   Model V"
      ]
     },
     "execution_count": 20,
     "metadata": {},
     "output_type": "execute_result"
    }
   ],
   "source": [
    "pd.concat([model_I, model_IV, model_V])"
   ]
  }
 ],
 "metadata": {
  "kernelspec": {
   "display_name": "Python 3.9.12 ('Rafal')",
   "language": "python",
   "name": "python3"
  },
  "language_info": {
   "codemirror_mode": {
    "name": "ipython",
    "version": 3
   },
   "file_extension": ".py",
   "mimetype": "text/x-python",
   "name": "python",
   "nbconvert_exporter": "python",
   "pygments_lexer": "ipython3",
   "version": "3.9.12"
  },
  "orig_nbformat": 4,
  "vscode": {
   "interpreter": {
    "hash": "333224694890ad07d8bba3bcec76b76aab4a4c4f379da3f4e2ae31267eb0e947"
   }
  }
 },
 "nbformat": 4,
 "nbformat_minor": 2
}
